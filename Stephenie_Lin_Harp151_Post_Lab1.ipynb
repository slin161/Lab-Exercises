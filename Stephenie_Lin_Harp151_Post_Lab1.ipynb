{
 "cells": [
  {
   "cell_type": "code",
   "execution_count": 1,
   "id": "332755a9",
   "metadata": {},
   "outputs": [
    {
     "name": "stdout",
     "output_type": "stream",
     "text": [
      "gargoyle\n"
     ]
    }
   ],
   "source": [
    "#Exercise 1\n",
    "word_list = [\"apple\", \"chestnut\", \"gargoyle\", \"pandas\", \"sheep\", \"raptor\"]\n",
    "\n",
    "def longest_word(word_list):\n",
    "    longest = \"\"\n",
    "    for i in word_list:\n",
    "        if len(longest) <= len(i):\n",
    "            longest = i\n",
    "    return longest\n",
    "\n",
    "print(longest_word(word_list))"
   ]
  },
  {
   "cell_type": "code",
   "execution_count": 2,
   "id": "38cc09de",
   "metadata": {},
   "outputs": [
    {
     "name": "stdout",
     "output_type": "stream",
     "text": [
      "Longest word in ['AA', 'AAH', 'AAHED', 'AAHING', 'AAHS', 'AAL', 'AALII'] is AAHING\n"
     ]
    }
   ],
   "source": [
    "#Exercise 2\n",
    "\n",
    "import random \n",
    "from IPython.display import clear_output \n",
    "sowpods = \"sowpods.txt\"\n",
    "\n",
    "random_words = []\n",
    "with open(\"sowpods.txt\", \"r\") as f:\n",
    "    for line in f:\n",
    "        word = line.strip() #removes \"\\n\" from words\n",
    "        random_words.append(word) \n",
    "        if len(random_words) == 7:\n",
    "            break\n",
    "\n",
    "def longest_word(word_list):\n",
    "    longest = \"\"\n",
    "    for i in word_list:\n",
    "        if len(longest) <= len(i):\n",
    "            longest = i\n",
    "    return longest\n",
    "\n",
    "\n",
    "print(\"Longest word in\", random_words, \"is\", longest_word(random_words))\n"
   ]
  },
  {
   "cell_type": "code",
   "execution_count": 3,
   "id": "7f533249",
   "metadata": {},
   "outputs": [
    {
     "name": "stdout",
     "output_type": "stream",
     "text": [
      "Prices: dict_values([5, 2, 3])\n",
      "Copy: {'eggs': 5, 'banana': 2, 'bread': 3}\n",
      "Update: {'eggs': 5, 'banana': 2, 'bread': 3, 'milk': 2}\n",
      "Pop: {'eggs': 5, 'banana': 2, 'milk': 2}\n"
     ]
    }
   ],
   "source": [
    "#Exercise 3\n",
    "grocery = {\"eggs\": 5, \"banana\": 2, \"bread\": 3}\n",
    "\n",
    "prices = grocery.values()\n",
    "print(\"Prices:\", prices)\n",
    "\n",
    "grocery_copy = grocery.copy()\n",
    "print(\"Copy:\", grocery_copy)\n",
    "\n",
    "grocery.update({\"milk\": 2})\n",
    "print(\"Update:\", grocery)\n",
    "\n",
    "grocery.pop(\"bread\")\n",
    "print(\"Pop:\", grocery)\n",
    "\n",
    "\n",
    "\n"
   ]
  },
  {
   "cell_type": "code",
   "execution_count": 4,
   "id": "aca06002",
   "metadata": {},
   "outputs": [
    {
     "name": "stdout",
     "output_type": "stream",
     "text": [
      "34\n",
      "['Water']\n",
      "----------------------------------\n",
      "Wizard powers are: ['magic', 'telepathy']\n",
      "Wizard Level is: 10\n",
      "----------------------------------\n",
      "Fairy skill is: fast healing\n",
      "Fairy HP is: 80\n"
     ]
    }
   ],
   "source": [
    "#Exercise 4\n",
    "\n",
    "#three classes: Player, Wizard, and Fairy.\n",
    "#Player class has a constructor method that takes a name and hp, and sets properties \"name\", \"hp\", \"damage\", and \"inventory\".\n",
    "\n",
    "class Player:\n",
    "    def __init__(self, name, hp):\n",
    "        self.name = name\n",
    "        self.hp = hp\n",
    "        self.damage = 0 \n",
    "        self.inventory = []\n",
    "        \n",
    "#the  method calculate_health which returns the hp minus the damage, and add_items  adds an item to the inventory \n",
    "    def calculate_health(self):\n",
    "        return self.hp - self.damage \n",
    "    \n",
    "    def add_items(self, item):\n",
    "      self.item = item\n",
    "      self.inventory.append(self.item) \n",
    "        \n",
    "#Wizard class constructor method, properties are name2, hp2, power, level\n",
    "class Wizard(Player):\n",
    "    def __init__(self, name2, hp2, power, level):\n",
    "        super().__init__(name2, hp2)\n",
    "        self.power = power\n",
    "        self.level = level\n",
    "\n",
    "#methods get_power  returns the power, and get_level  returns the level.\n",
    "    def get_power(self):\n",
    "        print(f\"Wizard powers are: {self.power}\")\n",
    "    \n",
    "    def get_level(self):\n",
    "        print(f\"Wizard Level is: {self.level}\")\n",
    "\n",
    "#Fairy class constructor method, properties arename3, hp3, and skill \n",
    "class Fairy(Player):\n",
    "    def __init__(self, name3, hp3, skill):\n",
    "        super().__init__(name3, hp3)\n",
    "        self.hp = hp3\n",
    "        self.skill = skill\n",
    "    \n",
    "#methods get_hp3  returns the hp, and get_skill  returns the skill.\n",
    "    def get_hp3(self):\n",
    "        print(f\"Fairy HP is: {self.hp}\")\n",
    "        \n",
    "    def get_skill(self):\n",
    "        print(f\"Fairy skill is: {self.skill}\")\n",
    "        \n",
    "        \n",
    "#instances of each class, and calls the methods to display properties of each class.\n",
    "p1 = Player(\"Sallow\", 34)\n",
    "print(p1.calculate_health())\n",
    "p1.add_items(\"Water\")\n",
    "print(p1.inventory)\n",
    "print(\"----------------------------------\")\n",
    "\n",
    "p2 = Wizard(\"Author\", 50, [\"magic\", \"telepathy\"], 10)\n",
    "p2.get_power()\n",
    "p2.get_level()\n",
    "print(\"----------------------------------\")\n",
    "\n",
    "p3= Fairy(\"Lucy\", 80, \"fast healing\")\n",
    "p3.get_skill()\n",
    "p3.get_hp3()"
   ]
  },
  {
   "cell_type": "code",
   "execution_count": null,
   "id": "8f6a734c",
   "metadata": {},
   "outputs": [
    {
     "name": "stdout",
     "output_type": "stream",
     "text": [
      "Let's play hangman! The word is 5 letters:  ['_', '_', '_', '_', '_']\n"
     ]
    }
   ],
   "source": [
    "#I needed to refresh my original code by adding loops\n",
    "#correct word will be \"apple\"\n",
    "word = \"apple\"\n",
    "#\"_\" will match how many letters in word, in this case it is five\n",
    "game = [\"_\"] * len(word)\n",
    "\n",
    "#will print the string and \"-----\"\n",
    "print(\"Let's play hangman! The word is 5 letters: \", (game))\n",
    "\n",
    "#variable will count wrong tries starting at 0, at most 6 wrong tries, wrong guesses will be put in list\n",
    "wrong = 0\n",
    "tries = 6\n",
    "wrong_letter = []\n",
    "\n",
    "#game will continue if wrong guesses is less than tries\n",
    "while \"_\" in game and wrong < tries:\n",
    "    user = input(\"Guess a letter: \") #allow user to guess letter\n",
    "    if user in word:\n",
    "        for i in range(len(word)):\n",
    "            if word[i] == user:\n",
    "                game[i] = user\n",
    "        print(\" \", (game)) #will print correct letter in place of \"_\"/underscore\n",
    "    else:\n",
    "        wrong += 1 #if wrong, wrong letters will appear in list\n",
    "        wrong_letter.append(user)\n",
    "        print(\"Wrong. You have made\", wrong, \"wrong guess.\")\n",
    "        print(\"Wrong letters:\", (wrong_letter))\n",
    "\n",
    "#if user guesses all correct letter, will print string and \"apple\", else it will print \"you lost...\" and \"apple\"\n",
    "if \"_\" not in game:\n",
    "    print(\"You won! The word was\", word)\n",
    "else:\n",
    "    print(\"You lost. The word was\", word)\n"
   ]
  },
  {
   "cell_type": "code",
   "execution_count": null,
   "id": "241bc017",
   "metadata": {},
   "outputs": [],
   "source": []
  },
  {
   "cell_type": "code",
   "execution_count": null,
   "id": "ee0f13f5",
   "metadata": {},
   "outputs": [],
   "source": []
  }
 ],
 "metadata": {
  "kernelspec": {
   "display_name": "Python 3 (ipykernel)",
   "language": "python",
   "name": "python3"
  },
  "language_info": {
   "codemirror_mode": {
    "name": "ipython",
    "version": 3
   },
   "file_extension": ".py",
   "mimetype": "text/x-python",
   "name": "python",
   "nbconvert_exporter": "python",
   "pygments_lexer": "ipython3",
   "version": "3.9.12"
  }
 },
 "nbformat": 4,
 "nbformat_minor": 5
}
